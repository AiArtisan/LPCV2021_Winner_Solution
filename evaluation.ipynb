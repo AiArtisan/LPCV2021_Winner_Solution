{
 "cells": [
  {
   "cell_type": "markdown",
   "metadata": {},
   "source": [
    "This file should run in python3 envrionment"
   ]
  },
  {
   "cell_type": "code",
   "execution_count": 1,
   "metadata": {},
   "outputs": [
    {
     "data": {
      "application/javascript": [
       "\n",
       "try {\n",
       "require(['notebook/js/codecell'], function(codecell) {\n",
       "  codecell.CodeCell.options_default.highlight_modes[\n",
       "      'magic_text/x-csrc'] = {'reg':[/^%%microblaze/]};\n",
       "  Jupyter.notebook.events.one('kernel_ready.Kernel', function(){\n",
       "      Jupyter.notebook.get_cells().map(function(cell){\n",
       "          if (cell.cell_type == 'code'){ cell.auto_highlight(); } }) ;\n",
       "  });\n",
       "});\n",
       "} catch (e) {};\n"
      ]
     },
     "metadata": {},
     "output_type": "display_data"
    },
    {
     "data": {
      "application/javascript": [
       "\n",
       "try {\n",
       "require(['notebook/js/codecell'], function(codecell) {\n",
       "  codecell.CodeCell.options_default.highlight_modes[\n",
       "      'magic_text/x-csrc'] = {'reg':[/^%%pybind11/]};\n",
       "  Jupyter.notebook.events.one('kernel_ready.Kernel', function(){\n",
       "      Jupyter.notebook.get_cells().map(function(cell){\n",
       "          if (cell.cell_type == 'code'){ cell.auto_highlight(); } }) ;\n",
       "  });\n",
       "});\n",
       "} catch (e) {};\n"
      ]
     },
     "metadata": {},
     "output_type": "display_data"
    }
   ],
   "source": [
    "import os\n",
    "import time\n",
    "import sys\n",
    "\n",
    "sys.path.append(os.path.abspath(\"../common\"))\n",
    "import pynq\n",
    "import lpcv_eval\n",
    "\n",
    "team_name = 'spring'\n",
    "team = lpcv_eval.Team(team_name, batch_size = 1)"
   ]
  },
  {
   "cell_type": "markdown",
   "metadata": {},
   "source": [
    "Import your processing code"
   ]
  },
  {
   "cell_type": "code",
   "execution_count": 2,
   "metadata": {},
   "outputs": [],
   "source": [
    "import utils"
   ]
  },
  {
   "cell_type": "markdown",
   "metadata": {},
   "source": [
    "Run all process"
   ]
  },
  {
   "cell_type": "code",
   "execution_count": 3,
   "metadata": {},
   "outputs": [],
   "source": [
    "import cv2\n",
    "\n",
    "interval_time = 0\n",
    "total_time = 0\n",
    "total_energy = 0\n",
    "\n",
    "team.reset_batch_count()\n",
    "rails = pynq.get_rails()"
   ]
  },
  {
   "cell_type": "code",
   "execution_count": 4,
   "metadata": {
    "scrolled": true
   },
   "outputs": [
    {
     "name": "stdout",
     "output_type": "stream",
     "text": [
      "all results size: 20288\n",
      "Total time: 495.29141426086426 seconds\n",
      "Total energy: 2474.944665136189 J\n"
     ]
    }
   ],
   "source": [
    "# Create detector with bit file name and model name\n",
    "# you can replace the default bit file by your own bit\n",
    "detector = utils.Processor(bit_name = \"dpu.bit\", model_name = \"yolox.xmodel\")\n",
    "os.system('echo 1 > /proc/sys/vm/drop_caches')\n",
    "\n",
    "\n",
    "start = time.time() \n",
    "# 5V power rail is used as an example for full sytem power modify the code below\n",
    "# refer to ultra96_pmbus.ipynb notebook under \n",
    "# /home/xilinx/jupyter_notebooks/common/ultra96_pmbus.ipynb for details on power rails\n",
    "recorder = pynq.DataRecorder(rails[\"5V\"].power) \n",
    "all_results = list()\n",
    "image_ids = []\n",
    "img_list = [str(path) for path in team.img_list]\n",
    "with recorder.record(0.05):\n",
    "    all_results = detector.run(img_list)  \n",
    "    #print(\"batch result size:\", len(batch_result))\n",
    "\n",
    "# timer stop after batch processing is complete\n",
    "end = time.time()\n",
    "t = end - start\n",
    "\n",
    "total_time = t\n",
    "\n",
    "#print('All processing time: {} seconds.'.format(total_time))\n",
    "print(\"all results size:\", len(all_results))\n",
    "#print(all_results)\n",
    "# Energy measurements    \n",
    "energy = recorder.frame[\"5V_power\"].mean() * t    \n",
    "total_energy = energy\n",
    "print(\"Total time:\", total_time, \"seconds\")\n",
    "print(\"Total energy:\", total_energy, \"J\")"
   ]
  },
  {
   "cell_type": "code",
   "execution_count": 5,
   "metadata": {},
   "outputs": [],
   "source": [
    "mapping = [1, 2, 3, 4, 5, 6, 7, 8, 9, 10, 11, 13, 14, 15, 16, 17, 18, 19, 20, 21, 22, 23, 24, 25, 27, 28, 31, 32, 33, 34,\n",
    "     35, 36, 37, 38, 39, 40, 41, 42, 43, 44, 46, 47, 48, 49, 50, 51, 52, 53, 54, 55, 56, 57, 58, 59, 60, 61, 62, 63,\n",
    "     64, 65, 67, 70, 72, 73, 74, 75, 76, 77, 78, 79, 80, 81, 82, 84, 85, 86, 87, 88, 89, 90]"
   ]
  },
  {
   "cell_type": "code",
   "execution_count": 6,
   "metadata": {},
   "outputs": [
    {
     "name": "stdout",
     "output_type": "stream",
     "text": [
      "save result done!\n"
     ]
    }
   ],
   "source": [
    "# YOLOX save result\n",
    "save_results = []\n",
    "for i in range(len(all_results)):\n",
    "    if all_results[i] is None:\n",
    "        continue\n",
    "    for j in range(len(all_results[i])):\n",
    "        label = mapping[int(all_results[i][j][6])]\n",
    "        score = all_results[i][j][5]\n",
    "        x = all_results[i][j][1] #- all_results[i][j][3] / 2\n",
    "        y = all_results[i][j][2] #- all_results[i][j][4] / 2\n",
    "        width = all_results[i][j][3] - all_results[i][j][1]\n",
    "        height = all_results[i][j][4] - all_results[i][j][2]\n",
    "        #print(\"result[\", i, \"][\", j, \"] name:\", all_images[i][0], \"label:\", label, \", score:\", score, \", bbox:\", x, y, width, height)\n",
    "        image_id = img_list[i].split('/')[-1].split('.')[0]#image_id = str(all_images[i][0]).split('/')[-1].split('.')[0]\n",
    "        save_results.append([image_id, x, y, width, height, label, score])\n",
    "        #print([image_id, x, y, width, height, label, score])\n",
    "# team.save_results_xml(save_results, total_time, total_energy)\n",
    "# save results to json file for test accuracy\n",
    "team.save_results_json(save_results)\n",
    "print(\"save result done!\")"
   ]
  },
  {
   "cell_type": "code",
   "execution_count": null,
   "metadata": {},
   "outputs": [],
   "source": []
  }
 ],
 "metadata": {
  "kernelspec": {
   "display_name": "Python 3",
   "language": "python",
   "name": "python3"
  },
  "language_info": {
   "codemirror_mode": {
    "name": "ipython",
    "version": 3
   },
   "file_extension": ".py",
   "mimetype": "text/x-python",
   "name": "python",
   "nbconvert_exporter": "python",
   "pygments_lexer": "ipython3",
   "version": "3.6.5"
  }
 },
 "nbformat": 4,
 "nbformat_minor": 4
}
